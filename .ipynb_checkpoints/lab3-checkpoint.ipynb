{
 "cells": [
  {
   "cell_type": "markdown",
   "metadata": {},
   "source": [
    "Physics 91SI\n",
    "\n",
    "Spring 2015\n",
    "\n",
    "Lab 2\n",
    "=====\n",
    "\n",
    "Part 1\n",
    "------"
   ]
  },
  {
   "cell_type": "code",
   "execution_count": 3,
   "metadata": {
    "collapsed": false
   },
   "outputs": [],
   "source": [
    "# Don't edit this function\n",
    "def load_sample():\n",
    "    \"\"\"Return the entire text of Hamlet in a string.\"\"\"\n",
    "    with open('hamlet.txt') as f:\n",
    "        sample = f.read()\n",
    "    return sample"
   ]
  },
  {
   "cell_type": "code",
   "execution_count": 4,
   "metadata": {
    "collapsed": false
   },
   "outputs": [],
   "source": [
    "\n",
    "def parse_sample(text, words_only=False, sort_list=False):\n",
    "    words = []\n",
    "    current = \"\"\n",
    "    text=text.replace(\"-\",\" \") #since apparently words can also be separated by dashes. Didn't know that.\n",
    "    for char in text:\n",
    "        if not char.isspace():\n",
    "            if not (not char.isalnum() and words_only):              \n",
    "                current+=char\n",
    "        else:\n",
    "            if words_only:\n",
    "                current=current.lower()\n",
    "            words.append(current)\n",
    "            current = \"\"\n",
    "    if sort_list:\n",
    "        words.sort()\n",
    "    return words\n"
   ]
  },
  {
   "cell_type": "code",
   "execution_count": 25,
   "metadata": {
    "collapsed": false
   },
   "outputs": [],
   "source": [
    "hammy = load_sample()\n",
    "#print (parse_sample(hammy,True,True)[:1000])"
   ]
  },
  {
   "cell_type": "markdown",
   "metadata": {},
   "source": [
    "Part 2\n",
    "------"
   ]
  },
  {
   "cell_type": "code",
   "execution_count": 31,
   "metadata": {
    "collapsed": false
   },
   "outputs": [],
   "source": [
    "def count_freq(lst):\n",
    "    \"\"\"Return a dict of word frequencies given a list of words.\n",
    "    \n",
    "    Arguments:\n",
    "    -- lst: a list of strings\n",
    "    \n",
    "    Returns:\n",
    "    -- freq_dict: a dictionary of word: frequency pairs. The keys are strings\n",
    "       containing the words, and the values are integers indicating how many\n",
    "       times each word appears.\n",
    "    \n",
    "    Example:\n",
    "    >>> count_freq(['time', 'after', 'time'])\n",
    "    {'time': 2, 'after': 1}\n",
    "    \"\"\"\n",
    "    dict={}\n",
    "    for word in lst:\n",
    "        if word not in dict:\n",
    "            dict[word]=1\n",
    "        else:\n",
    "            dict[word]+=1\n",
    "            \n",
    "    return dict\n",
    "\n",
    "def mean(lst):\n",
    "    \"\"\"Return the arithmetic mean of a list of numbers.\"\"\"\n",
    "    return sum(lst)/len(lst)\n",
    "\n",
    "def stdev(lst):\n",
    "    \"\"\"Return the standard deviation of a list of numbers.\"\"\"\n",
    "    theMean = mean(lst)\n",
    "    squaredeviations = [(x-theMean)**2 for x in lst]\n",
    "    return (mean(squaredeviations))**0.5\n",
    "\n",
    "def median(lst):\n",
    "    \"\"\"Return the median of a list of numbers.\"\"\"\n",
    "    lst.sort()\n",
    "    mid = len(lst)//2\n",
    "    if len(lst)%2!=0:\n",
    "        return lst[mid]\n",
    "    else:\n",
    "        return (lst[mid] + lst[mid-1])/2"
   ]
  },
  {
   "cell_type": "code",
   "execution_count": 34,
   "metadata": {
    "collapsed": false
   },
   "outputs": [
    {
     "name": "stdout",
     "output_type": "stream",
     "text": [
      "5 1\n"
     ]
    }
   ],
   "source": [
    "h=load_sample()\n",
    "d = count_freq(parse_sample(h))\n",
    "print(d['honour'],d['happiness'])"
   ]
  },
  {
   "cell_type": "markdown",
   "metadata": {},
   "source": [
    "Part 3\n",
    "------"
   ]
  },
  {
   "cell_type": "code",
   "execution_count": 48,
   "metadata": {
    "collapsed": false
   },
   "outputs": [
    {
     "name": "stdout",
     "output_type": "stream",
     "text": [
      "Mode:  989\n",
      "Median:  1\n",
      "Standard Deviation:  24.979793946514434\n",
      "Mean Frequency:  4.279213114754098\n"
     ]
    }
   ],
   "source": [
    "def print_stats(lst):\n",
    "    \"\"\"Print common statistics about the word frequencies of a list of words.\"\"\"\n",
    "    word_dict = count_freq(lst)\n",
    "    freq = list(word_dict.values())\n",
    "    print (\"Mode: \", max(freq))\n",
    "    print (\"Median: \",median(freq))\n",
    "    print (\"Standard Deviation: \",stdev(freq))\n",
    "    print (\"Mean Frequency: \",mean(freq))\n",
    "    \n",
    "\n",
    "h=load_sample()\n",
    "h=parse_sample(h)\n",
    "print_stats(h)\n",
    "    "
   ]
  }
 ],
 "metadata": {
  "kernelspec": {
   "display_name": "Python 3",
   "language": "python",
   "name": "python3"
  },
  "language_info": {
   "codemirror_mode": {
    "name": "ipython",
    "version": 3
   },
   "file_extension": ".py",
   "mimetype": "text/x-python",
   "name": "python",
   "nbconvert_exporter": "python",
   "pygments_lexer": "ipython3",
   "version": "3.4.3"
  }
 },
 "nbformat": 4,
 "nbformat_minor": 0
}
